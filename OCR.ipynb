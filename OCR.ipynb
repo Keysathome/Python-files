{
 "cells": [
  {
   "cell_type": "code",
   "execution_count": 1,
   "metadata": {},
   "outputs": [
    {
     "name": "stdout",
     "output_type": "stream",
     "text": [
      "Requirement already satisfied: PyPDF2 in c:\\users\\wangk.msi\\appdata\\local\\programs\\python\\python313\\lib\\site-packages (3.0.1)\n",
      "Requirement already satisfied: pdf2image in c:\\users\\wangk.msi\\appdata\\local\\programs\\python\\python313\\lib\\site-packages (1.17.0)\n",
      "Requirement already satisfied: pytesseract in c:\\users\\wangk.msi\\appdata\\local\\programs\\python\\python313\\lib\\site-packages (0.3.13)\n",
      "Requirement already satisfied: Pillow in c:\\users\\wangk.msi\\appdata\\local\\programs\\python\\python313\\lib\\site-packages (11.1.0)\n",
      "Requirement already satisfied: packaging>=21.3 in c:\\users\\wangk.msi\\appdata\\roaming\\python\\python313\\site-packages (from pytesseract) (24.2)\n",
      "Note: you may need to restart the kernel to use updated packages.\n"
     ]
    },
    {
     "name": "stderr",
     "output_type": "stream",
     "text": [
      "\n",
      "[notice] A new release of pip is available: 24.2 -> 25.0.1\n",
      "[notice] To update, run: python.exe -m pip install --upgrade pip\n"
     ]
    }
   ],
   "source": [
    "pip install PyPDF2 pdf2image pytesseract Pillow\n"
   ]
  },
  {
   "cell_type": "code",
   "execution_count": 6,
   "metadata": {},
   "outputs": [
    {
     "ename": "SyntaxError",
     "evalue": "unexpected character after line continuation character (2763186128.py, line 1)",
     "output_type": "error",
     "traceback": [
      "\u001b[1;36m  Cell \u001b[1;32mIn[6], line 1\u001b[1;36m\u001b[0m\n\u001b[1;33m    C:\\Program Files\\Tesseract-OCR\\tesseract.exe\u001b[0m\n\u001b[1;37m       ^\u001b[0m\n\u001b[1;31mSyntaxError\u001b[0m\u001b[1;31m:\u001b[0m unexpected character after line continuation character\n"
     ]
    }
   ],
   "source": [
    "C:\\Program Files\\Tesseract-OCR\\tesseract.exe\n"
   ]
  },
  {
   "cell_type": "code",
   "execution_count": 7,
   "metadata": {},
   "outputs": [
    {
     "name": "stdout",
     "output_type": "stream",
     "text": [
      "Current Working Directory: c:\\Users\\wangk.MSI\\AppData\\Local\\Programs\\Microsoft VS Code\n",
      "bin\n",
      "chrome_100_percent.pak\n",
      "chrome_200_percent.pak\n",
      "Code.exe\n",
      "Code.VisualElementsManifest.xml\n",
      "d3dcompiler_47.dll\n",
      "ffmpeg.dll\n",
      "icudtl.dat\n",
      "libEGL.dll\n",
      "libGLESv2.dll\n",
      "LICENSES.chromium.html\n",
      "locales\n",
      "policies\n",
      "resources\n",
      "resources.pak\n",
      "snapshot_blob.bin\n",
      "tools\n",
      "unins000.dat\n",
      "unins000.exe\n",
      "unins000.msg\n",
      "v8_context_snapshot.bin\n",
      "vk_swiftshader.dll\n",
      "vk_swiftshader_icd.json\n",
      "vulkan-1.dll\n"
     ]
    }
   ],
   "source": [
    "import os\n",
    "\n",
    "# Get the current working directory\n",
    "current_directory = os.getcwd()\n",
    "print(f\"Current Working Directory: {current_directory}\")\n",
    "\n",
    "# Example of listing directories and files\n",
    "# You can specify the path to view contents; here it is using the current directory\n",
    "for item in os.listdir(current_directory):\n",
    "    print(item)"
   ]
  },
  {
   "cell_type": "code",
   "execution_count": 8,
   "metadata": {},
   "outputs": [
    {
     "name": "stdout",
     "output_type": "stream",
     "text": [
      "Tesseract executable found at: C:\\Users\\wangk.MSI\\AppData\\Local\\Programs\\Tesseract-OCR\\tesseract.exe\n"
     ]
    }
   ],
   "source": [
    "import os\n",
    "\n",
    "def find_tesseract_in_directory(start_path):\n",
    "    for root, dirs, files in os.walk(start_path):\n",
    "        if 'tesseract.exe' in files:\n",
    "            return os.path.join(root, 'tesseract.exe')\n",
    "    return None\n",
    "\n",
    "if __name__ == \"__main__\":\n",
    "    start_path = r'C:\\Users\\wangk.MSI'\n",
    "    tesseract_path = find_tesseract_in_directory(start_path)\n",
    "    \n",
    "    if tesseract_path:\n",
    "        print(f\"Tesseract executable found at: {tesseract_path}\")\n",
    "    else:\n",
    "        print(\"Tesseract executable not found in the specified directory.\")\n"
   ]
  },
  {
   "cell_type": "code",
   "execution_count": null,
   "metadata": {},
   "outputs": [],
   "source": [
    "C:\\Users\\wangk.MSI\\AppData\\Local\\Programs\\Tesseract-OCR\\tesseract.exe"
   ]
  },
  {
   "cell_type": "code",
   "execution_count": 3,
   "metadata": {},
   "outputs": [
    {
     "name": "stdout",
     "output_type": "stream",
     "text": [
      "Page 1: No text found, performing OCR.\n",
      "Page 1: OCR page added to new PDF.\n",
      "Page 2: No text found, performing OCR.\n",
      "Page 2: OCR page added to new PDF.\n",
      "Page 3: No text found, performing OCR.\n",
      "Page 3: OCR page added to new PDF.\n",
      "Page 4: No text found, performing OCR.\n",
      "Page 4: OCR page added to new PDF.\n",
      "Page 5: No text found, performing OCR.\n",
      "Page 5: OCR page added to new PDF.\n",
      "Page 6: No text found, performing OCR.\n",
      "Page 6: OCR page added to new PDF.\n",
      "Page 7: No text found, performing OCR.\n",
      "Page 7: OCR page added to new PDF.\n",
      "Page 8: No text found, performing OCR.\n",
      "Page 8: OCR page added to new PDF.\n",
      "Page 9: No text found, performing OCR.\n",
      "Page 9: OCR page added to new PDF.\n",
      "Page 10: No text found, performing OCR.\n",
      "Page 10: OCR page added to new PDF.\n",
      "Page 11: No text found, performing OCR.\n",
      "Page 11: OCR page added to new PDF.\n",
      "Page 12: No text found, performing OCR.\n",
      "Page 12: OCR page added to new PDF.\n",
      "Page 13: No text found, performing OCR.\n",
      "Page 13: OCR page added to new PDF.\n",
      "Page 14: No text found, performing OCR.\n",
      "Page 14: OCR page added to new PDF.\n",
      "Page 15: No text found, performing OCR.\n",
      "Page 15: OCR page added to new PDF.\n",
      "Page 16: No text found, performing OCR.\n",
      "Page 16: OCR page added to new PDF.\n",
      "Page 17: No text found, performing OCR.\n",
      "Page 17: OCR page added to new PDF.\n",
      "Page 18: No text found, performing OCR.\n",
      "Page 18: OCR page added to new PDF.\n",
      "Page 19: No text found, performing OCR.\n",
      "Page 19: OCR page added to new PDF.\n",
      "Page 20: No text found, performing OCR.\n",
      "Page 20: OCR page added to new PDF.\n",
      "Page 21: No text found, performing OCR.\n",
      "Page 21: OCR page added to new PDF.\n",
      "Page 22: No text found, performing OCR.\n",
      "Page 22: OCR page added to new PDF.\n",
      "Page 23: No text found, performing OCR.\n",
      "Page 23: OCR page added to new PDF.\n",
      "Page 24: No text found, performing OCR.\n",
      "Page 24: OCR page added to new PDF.\n",
      "Page 25: No text found, performing OCR.\n",
      "Page 25: OCR page added to new PDF.\n",
      "Page 26: No text found, performing OCR.\n",
      "Page 26: OCR page added to new PDF.\n",
      "Page 27: No text found, performing OCR.\n",
      "Page 27: OCR page added to new PDF.\n",
      "Page 28: No text found, performing OCR.\n",
      "Page 28: OCR page added to new PDF.\n",
      "Page 29: No text found, performing OCR.\n",
      "Page 29: OCR page added to new PDF.\n",
      "Page 30: No text found, performing OCR.\n",
      "Page 30: OCR page added to new PDF.\n",
      "Page 31: No text found, performing OCR.\n",
      "Page 31: OCR page added to new PDF.\n",
      "Page 32: No text found, performing OCR.\n",
      "Page 32: OCR page added to new PDF.\n",
      "Page 33: No text found, performing OCR.\n",
      "Page 33: OCR page added to new PDF.\n",
      "OCR processed PDF saved as: C:\\Users\\wangk.MSI\\Desktop\\pdf_merger\\ocr_processed_output.pdf\n"
     ]
    }
   ],
   "source": [
    "import fitz  # PyMuPDF\n",
    "import pytesseract\n",
    "from PIL import Image\n",
    "import io\n",
    "\n",
    "# Path to tesseract executable\n",
    "pytesseract.pytesseract.tesseract_cmd = r'C:\\Users\\wangk.MSI\\AppData\\Local\\Programs\\Tesseract-OCR\\tesseract.exe'\n",
    "\n",
    "def ocr_and_process_pdf(input_pdf_path, output_pdf_path):\n",
    "    # Open the source PDF\n",
    "    document = fitz.open(input_pdf_path)\n",
    "    # Create a new PDF\n",
    "    new_pdf = fitz.open()\n",
    "\n",
    "    for page_number in range(len(document)):\n",
    "        page = document.load_page(page_number)\n",
    "        text = page.get_text()\n",
    "\n",
    "        if text.strip():\n",
    "            # If text is found, add the page directly\n",
    "            new_pdf.insert_pdf(document, from_page=page_number, to_page=page_number)\n",
    "            print(f\"Page {page_number + 1}: Text found, copying page to new PDF.\")\n",
    "        else:\n",
    "            print(f\"Page {page_number + 1}: No text found, performing OCR.\")\n",
    "            # Render page to an image\n",
    "            pix = page.get_pixmap()\n",
    "            img = Image.open(io.BytesIO(pix.tobytes(\"png\")))\n",
    "            # Perform OCR\n",
    "            ocr_text = pytesseract.image_to_string(img)\n",
    "\n",
    "            # Create a new page with OCR text\n",
    "            new_page = new_pdf.new_page(width=page.rect.width, height=page.rect.height)\n",
    "            text_insert_position = fitz.Point(50, 50)\n",
    "            new_page.insert_text(text_insert_position, ocr_text)\n",
    "            print(f\"Page {page_number + 1}: OCR page added to new PDF.\")\n",
    "\n",
    "    # Save the new PDF file\n",
    "    new_pdf.save(output_pdf_path)\n",
    "    print(f\"OCR processed PDF saved as: {output_pdf_path}\")\n",
    "\n",
    "if __name__ == \"__main__\":\n",
    "    input_pdf_path = r'C:\\Users\\wangk.MSI\\Desktop\\pdf_merger\\merged_output.pdf'\n",
    "    output_pdf_path = r'C:\\Users\\wangk.MSI\\Desktop\\pdf_merger\\ocr_processed_output.pdf'\n",
    "    \n",
    "    ocr_and_process_pdf(input_pdf_path, output_pdf_path)\n"
   ]
  }
 ],
 "metadata": {
  "kernelspec": {
   "display_name": "Python 3",
   "language": "python",
   "name": "python3"
  },
  "language_info": {
   "codemirror_mode": {
    "name": "ipython",
    "version": 3
   },
   "file_extension": ".py",
   "mimetype": "text/x-python",
   "name": "python",
   "nbconvert_exporter": "python",
   "pygments_lexer": "ipython3",
   "version": "3.13.0"
  }
 },
 "nbformat": 4,
 "nbformat_minor": 2
}
