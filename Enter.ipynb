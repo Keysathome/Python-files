{
 "cells": [
  {
   "cell_type": "code",
   "execution_count": null,
   "metadata": {},
   "outputs": [],
   "source": [
    "# SendCtrlS.ps1\n",
    "\n",
    "Add-Type -AssemblyName System.Windows.Forms\n",
    "\n",
    "# Optional: Activate the target window by title\n",
    "# Replace 'Untitled - Notepad' with the exact title of your target window\n",
    "$windowTitle = \"Untitled - Notepad\" \n",
    "\n",
    "# Attempt to activate the window\n",
    "$shell = New-Object -ComObject Shell.Application\n",
    "$shell.AppActivate($windowTitle)\n",
    "\n",
    "# Wait briefly to ensure the window is active\n",
    "Start-Sleep -Milliseconds 500\n",
    "\n",
    "# Send Ctrl + S\n",
    "[System.Windows.Forms.SendKeys]::SendWait(\"^{s}\")\n",
    "\n",
    "# Exit the script\n",
    "Exit\n"
   ]
  }
 ],
 "metadata": {
  "language_info": {
   "name": "python"
  }
 },
 "nbformat": 4,
 "nbformat_minor": 2
}
