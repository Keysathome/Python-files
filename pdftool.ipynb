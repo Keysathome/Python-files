{
 "cells": [
  {
   "cell_type": "code",
   "execution_count": null,
   "metadata": {},
   "outputs": [
    {
     "name": "stdout",
     "output_type": "stream",
     "text": [
      "Merging data\\doc1.pdf\n",
      "Merging data\\doc2.pdf\n",
      "Merging data\\doc3.pdf\n",
      "Merging data\\doc4.pdf\n",
      "All done! Your combined PDF is saved as data\\combined.pdf\n"
     ]
    }
   ],
   "source": [
    "import os\n",
    "from PyPDF2 import PdfMerger\n",
    "from PIL import Image\n",
    "import pytesseract\n",
    "\n",
    "# Set the folder containing your PDF files.\n",
    "folder_path = 'data'  # Replace with your actual folder path\n",
    "\n",
    "# List all PDF files in the folder, sorted by filename.\n",
    "pdf_files = [f for f in os.listdir(folder_path) if f.lower().endswith('.pdf')]\n",
    "pdf_files.sort()\n",
    "\n",
    "# Create a PdfMerger instance.\n",
    "merger = PdfMerger()\n",
    "\n",
    "# Iterate over the sorted PDF files and append them to the merger.\n",
    "for pdf in pdf_files:\n",
    "    file_path = os.path.join(folder_path, pdf)\n",
    "    print(f\"Merging {file_path}\")  # Optional: just to see progress.\n",
    "    merger.append(file_path)\n",
    "\n",
    "# Write out the merged PDF to a new file.\n",
    "output_path = os.path.join(folder_path, \"combined.pdf\")\n",
    "merger.write(output_path)\n",
    "merger.close()\n",
    "\n",
    "print(f\"All done! Your combined PDF is saved as {output_path}\")\n",
    "\n",
    "\n",
    "\n",
    "# If Tesseract isn't in your PATH (commonly on Windows), specify its location:\n",
    "# pytesseract.pytesseract.tesseract_cmd = r'C:\\Program Files\\Tesseract-OCR\\tesseract.exe'\n",
    "\n",
    "# Open an image file\n",
    "image_path = 'data/test_image.jpg'\n",
    "image = Image.open(image_path)\n",
    "\n",
    "# Use Tesseract to do OCR on the image\n",
    "extracted_text = pytesseract.image_to_string(image)\n",
    "\n",
    "print(\"Extracted Text:\")\n",
    "print(extracted_text)\n"
   ]
  },
  {
   "cell_type": "code",
   "execution_count": 4,
   "metadata": {},
   "outputs": [
    {
     "name": "stdout",
     "output_type": "stream",
     "text": [
      "Extracted Text:\n",
      "Particular toolkit Lengths.\n",
      "\n",
      "ACADEMIC ISSUES\n",
      "Management\n",
      "ch month, 3:0\n",
      "\n",
      "€ Manag\n",
      "ng time more e\n",
      "\n",
      "Procrastination\n",
      "Mondays, 2:00-3:00pm\n",
      "\n",
      "“V'll do it tomorrow” How Many times have YOu said that in the\n",
      "Past week? Month? Procrastination affects us al| and can bea\n",
      "hard Pattern to change. Come to our One€-session Module to\n",
      "identify areas of Procrastination, the challenges we face, and\n",
      "learn Ways to set our goals not for tomorrow, but today,\n",
      "\n",
      "ANXIETY\n",
      "\n",
      "HEALTH AND WELLNESS\n",
      "Mindful Coloring\n",
      "Third and Fourth Tuesda ly of each mon th, 3:00-4:00pm\n",
      "This toolkit will provide Space for Participants to engage in\n",
      "mindfulness through adult coloring.\n",
      "\n",
      "Mindfulness\n",
      "Tuesdays, 5:00-6:00pm\n",
      "*,\n",
      "\n",
      "Visualization, sensory mindfuln :\n",
      "mindfulness apps, and biofeedback.\n",
      "\n",
      "4nd tips and\n",
      "ded.\n",
      "\n",
      "Meditation/Self-Hypnosis\n",
      "Call for an individual] appointment.\n",
      "This toolkit helps students having difficulty Managing the\n",
      "\n",
      "academics, relationships, and family Conflicts and\n",
      "itation and Self-hypnosis as Coping\n",
      "\n",
      "TRAUMA\n",
      "\n",
      "Trauma and Wellness\n",
      "\n",
      "Mondays, 5:00-6:00pm\n",
      "is fou 9Ned to provide Psychoeducation\n",
      "\n",
      "P trauma Survivors better\n",
      "\n",
      "ad Manage the effects of trauma on their body,\n",
      "avior.\n",
      "\n",
      "\n"
     ]
    }
   ],
   "source": [
    "# If Tesseract isn't in your PATH (commonly on Windows), specify its location:\n",
    "# pytesseract.pytesseract.tesseract_cmd = r'C:\\Program Files\\Tesseract-OCR\\tesseract.exe'\n",
    "from PIL import Image\n",
    "import pytesseract\n",
    "# Open an image file\n",
    "image_path = 'data/test_image1.jpg'\n",
    "image = Image.open(image_path)\n",
    "\n",
    "# Use Tesseract to do OCR on the image\n",
    "extracted_text = pytesseract.image_to_string(image)\n",
    "\n",
    "print(\"Extracted Text:\")\n",
    "print(extracted_text)"
   ]
  },
  {
   "cell_type": "code",
   "execution_count": null,
   "metadata": {},
   "outputs": [],
   "source": []
  },
  {
   "cell_type": "code",
   "execution_count": null,
   "metadata": {},
   "outputs": [],
   "source": []
  }
 ],
 "metadata": {
  "kernelspec": {
   "display_name": "venv",
   "language": "python",
   "name": "python3"
  },
  "language_info": {
   "codemirror_mode": {
    "name": "ipython",
    "version": 3
   },
   "file_extension": ".py",
   "mimetype": "text/x-python",
   "name": "python",
   "nbconvert_exporter": "python",
   "pygments_lexer": "ipython3",
   "version": "3.12.3"
  }
 },
 "nbformat": 4,
 "nbformat_minor": 2
}
